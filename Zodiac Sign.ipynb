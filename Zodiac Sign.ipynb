{
 "cells": [
  {
   "cell_type": "markdown",
   "id": "e28eb77e",
   "metadata": {},
   "source": [
    "# Description\n",
    "The fifth project in the Super Data Science Python Masterclass is a program which takes the user's date of birth, and tells them their age and zodiac sign."
   ]
  },
  {
   "cell_type": "code",
   "execution_count": 3,
   "id": "077bb5f9",
   "metadata": {},
   "outputs": [],
   "source": [
    "from datetime import date\n",
    "from dateutil import relativedelta"
   ]
  },
  {
   "cell_type": "markdown",
   "id": "4d492253",
   "metadata": {},
   "source": [
    "First, gather input from the user and display their date of birth."
   ]
  },
  {
   "cell_type": "code",
   "execution_count": 15,
   "id": "2d15ab66",
   "metadata": {},
   "outputs": [
    {
     "name": "stdout",
     "output_type": "stream",
     "text": [
      "In what year where you born [ex. 1975]: 1975\n",
      "In what month where you born [ex. 5 for May]: 5\n",
      "On what day where you born [ex. 29]: 29\n",
      "Your Date of Birth is 5/29/1975\n"
     ]
    }
   ],
   "source": [
    "year = input(\"In what year where you born [ex. 1975]: \")\n",
    "month = input(\"In what month where you born [ex. 5 for May]: \")\n",
    "day = input(\"On what day where you born [ex. 29]: \")\n",
    "\n",
    "print(\"Your Date of Birth is {}/{}/{}\".format(month, day, year))"
   ]
  },
  {
   "cell_type": "markdown",
   "id": "bbde1445",
   "metadata": {},
   "source": [
    "Next, calculate their age."
   ]
  },
  {
   "cell_type": "code",
   "execution_count": 16,
   "id": "81ee1dab",
   "metadata": {
    "scrolled": false
   },
   "outputs": [
    {
     "name": "stdout",
     "output_type": "stream",
     "text": [
      "You are 46 years old.\n"
     ]
    }
   ],
   "source": [
    "birthdate = date(int(year), int(month), int(day))\n",
    "today = date.today()\n",
    "\n",
    "diff = relativedelta.relativedelta(today, birthdate)\n",
    "\n",
    "print(\"You are {} years old.\".format(diff.years))"
   ]
  },
  {
   "cell_type": "markdown",
   "id": "2c3a48d3",
   "metadata": {},
   "source": [
    "Finally, determine the user's Zodiac sign"
   ]
  },
  {
   "cell_type": "code",
   "execution_count": 14,
   "id": "5efde00e",
   "metadata": {},
   "outputs": [
    {
     "name": "stdout",
     "output_type": "stream",
     "text": [
      "You are a Gemini and your sign is The Twins\n"
     ]
    }
   ],
   "source": [
    "year = int(year)\n",
    "month = int(month)\n",
    "day = int(day)\n",
    "\n",
    "if (month == 12 and day >= 22) or (month == 1 and day <= 19):\n",
    "    print(\"You are a Capricorn and your sign is The Goat\")\n",
    "elif (month == 1 and day >= 20) or (month == 2 and day <= 18):\n",
    "    print(\"You are an Aquarius and your sign is The Water Bearer\")\n",
    "elif (month == 2 and day >= 19) or (month == 3 and day <= 20):\n",
    "    print(\"You are a Pisces and your sign is The Fishes\")\n",
    "elif (month == 3 and day >= 21) or (month == 4 and day <= 19):\n",
    "    print(\"You are an Aries and your sign is The Ram\")\n",
    "elif (month == 4 and day >= 20) or (month == 5 and day <= 20):\n",
    "    print(\"You are a Taurus and your sign is The Bull\")\n",
    "elif (month == 5 and day >= 21) or (month == 6 and day <= 20):\n",
    "    print(\"You are a Gemini and your sign is The Twins\")\n",
    "elif (month == 6 and day >= 21) or (month == 7 and day <= 22):\n",
    "    print(\"You are a Cancer and your sign is The Crab\")\n",
    "elif (month == 7 and day >= 23) or (month == 8 and day <= 22):\n",
    "    print(\"You are a Leo and your sign is The Lion\")\n",
    "elif (month == 8 and day >= 23) or (month == 9 and day <= 22):\n",
    "    print(\"You are a Virgo and your sign is The Virgin\")\n",
    "elif (month == 9 and day >= 23) or (month == 10 and day <= 22):\n",
    "    print(\"You are a Libra and your sign is The Scales\")\n",
    "elif (month == 10 and day >= 23) or (month == 11 and day <= 21):\n",
    "    print(\"You are a Scorpio and your sign is The Scorpion\")\n",
    "elif (month == 11 and day >= 22) or (month == 12 and day <= 21):\n",
    "    print(\"You are a Sgaittarius and your sign is The Archer\")"
   ]
  }
 ],
 "metadata": {
  "kernelspec": {
   "display_name": "Python 3",
   "language": "python",
   "name": "python3"
  },
  "language_info": {
   "codemirror_mode": {
    "name": "ipython",
    "version": 3
   },
   "file_extension": ".py",
   "mimetype": "text/x-python",
   "name": "python",
   "nbconvert_exporter": "python",
   "pygments_lexer": "ipython3",
   "version": "3.8.8"
  }
 },
 "nbformat": 4,
 "nbformat_minor": 5
}
